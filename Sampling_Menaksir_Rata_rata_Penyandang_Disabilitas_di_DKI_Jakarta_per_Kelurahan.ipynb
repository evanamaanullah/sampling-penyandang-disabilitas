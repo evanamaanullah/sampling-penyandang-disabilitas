{
  "nbformat": 4,
  "nbformat_minor": 0,
  "metadata": {
    "colab": {
      "provenance": []
    },
    "kernelspec": {
      "name": "python3",
      "display_name": "Python 3"
    },
    "language_info": {
      "name": "python"
    }
  },
  "cells": [
    {
      "cell_type": "markdown",
      "source": [
        "**1. Estimasi rata-rata jumlah penyandang disabilitas per kelurahan di DKI Jakarta**"
      ],
      "metadata": {
        "id": "OEqncopUYM_j"
      }
    },
    {
      "cell_type": "code",
      "source": [
        "# Load data\n",
        "data = pd.read_csv(\"penyandang_disabilitas.csv\", delimiter = \";\")\n",
        "data.head(10)"
      ],
      "metadata": {
        "colab": {
          "base_uri": "https://localhost:8080/",
          "height": 363
        },
        "id": "KHNxLHLEQHS_",
        "outputId": "1559e46d-376a-4d4e-a680-73f41c155953"
      },
      "execution_count": null,
      "outputs": [
        {
          "output_type": "execute_result",
          "data": {
            "text/plain": [
              "  nama_kecamatan       nama_kelurahan  penyandang_disabilitas\n",
              "0         CAKUNG         CAKUNG BARAT                      12\n",
              "1         CAKUNG         CAKUNG TIMUR                       7\n",
              "2         CAKUNG           JATINEGARA                      10\n",
              "3         CAKUNG         PENGGILINGAN                      91\n",
              "4         CAKUNG          PULO GEBANG                       7\n",
              "5         CAKUNG          RAWA TERATE                       5\n",
              "6         CAKUNG        UJUNG MENTENG                       4\n",
              "7  CEMPAKA PUTIH  CEMPAKA PUTIH BARAT                       2\n",
              "8  CEMPAKA PUTIH  CEMPAKA PUTIH TIMUR                       1\n",
              "9  CEMPAKA PUTIH             RAWASARI                       7"
            ],
            "text/html": [
              "\n",
              "  <div id=\"df-adeaa35d-c0cb-46e7-93ff-26697eb7a9ad\">\n",
              "    <div class=\"colab-df-container\">\n",
              "      <div>\n",
              "<style scoped>\n",
              "    .dataframe tbody tr th:only-of-type {\n",
              "        vertical-align: middle;\n",
              "    }\n",
              "\n",
              "    .dataframe tbody tr th {\n",
              "        vertical-align: top;\n",
              "    }\n",
              "\n",
              "    .dataframe thead th {\n",
              "        text-align: right;\n",
              "    }\n",
              "</style>\n",
              "<table border=\"1\" class=\"dataframe\">\n",
              "  <thead>\n",
              "    <tr style=\"text-align: right;\">\n",
              "      <th></th>\n",
              "      <th>nama_kecamatan</th>\n",
              "      <th>nama_kelurahan</th>\n",
              "      <th>penyandang_disabilitas</th>\n",
              "    </tr>\n",
              "  </thead>\n",
              "  <tbody>\n",
              "    <tr>\n",
              "      <th>0</th>\n",
              "      <td>CAKUNG</td>\n",
              "      <td>CAKUNG BARAT</td>\n",
              "      <td>12</td>\n",
              "    </tr>\n",
              "    <tr>\n",
              "      <th>1</th>\n",
              "      <td>CAKUNG</td>\n",
              "      <td>CAKUNG TIMUR</td>\n",
              "      <td>7</td>\n",
              "    </tr>\n",
              "    <tr>\n",
              "      <th>2</th>\n",
              "      <td>CAKUNG</td>\n",
              "      <td>JATINEGARA</td>\n",
              "      <td>10</td>\n",
              "    </tr>\n",
              "    <tr>\n",
              "      <th>3</th>\n",
              "      <td>CAKUNG</td>\n",
              "      <td>PENGGILINGAN</td>\n",
              "      <td>91</td>\n",
              "    </tr>\n",
              "    <tr>\n",
              "      <th>4</th>\n",
              "      <td>CAKUNG</td>\n",
              "      <td>PULO GEBANG</td>\n",
              "      <td>7</td>\n",
              "    </tr>\n",
              "    <tr>\n",
              "      <th>5</th>\n",
              "      <td>CAKUNG</td>\n",
              "      <td>RAWA TERATE</td>\n",
              "      <td>5</td>\n",
              "    </tr>\n",
              "    <tr>\n",
              "      <th>6</th>\n",
              "      <td>CAKUNG</td>\n",
              "      <td>UJUNG MENTENG</td>\n",
              "      <td>4</td>\n",
              "    </tr>\n",
              "    <tr>\n",
              "      <th>7</th>\n",
              "      <td>CEMPAKA PUTIH</td>\n",
              "      <td>CEMPAKA PUTIH BARAT</td>\n",
              "      <td>2</td>\n",
              "    </tr>\n",
              "    <tr>\n",
              "      <th>8</th>\n",
              "      <td>CEMPAKA PUTIH</td>\n",
              "      <td>CEMPAKA PUTIH TIMUR</td>\n",
              "      <td>1</td>\n",
              "    </tr>\n",
              "    <tr>\n",
              "      <th>9</th>\n",
              "      <td>CEMPAKA PUTIH</td>\n",
              "      <td>RAWASARI</td>\n",
              "      <td>7</td>\n",
              "    </tr>\n",
              "  </tbody>\n",
              "</table>\n",
              "</div>\n",
              "      <button class=\"colab-df-convert\" onclick=\"convertToInteractive('df-adeaa35d-c0cb-46e7-93ff-26697eb7a9ad')\"\n",
              "              title=\"Convert this dataframe to an interactive table.\"\n",
              "              style=\"display:none;\">\n",
              "        \n",
              "  <svg xmlns=\"http://www.w3.org/2000/svg\" height=\"24px\"viewBox=\"0 0 24 24\"\n",
              "       width=\"24px\">\n",
              "    <path d=\"M0 0h24v24H0V0z\" fill=\"none\"/>\n",
              "    <path d=\"M18.56 5.44l.94 2.06.94-2.06 2.06-.94-2.06-.94-.94-2.06-.94 2.06-2.06.94zm-11 1L8.5 8.5l.94-2.06 2.06-.94-2.06-.94L8.5 2.5l-.94 2.06-2.06.94zm10 10l.94 2.06.94-2.06 2.06-.94-2.06-.94-.94-2.06-.94 2.06-2.06.94z\"/><path d=\"M17.41 7.96l-1.37-1.37c-.4-.4-.92-.59-1.43-.59-.52 0-1.04.2-1.43.59L10.3 9.45l-7.72 7.72c-.78.78-.78 2.05 0 2.83L4 21.41c.39.39.9.59 1.41.59.51 0 1.02-.2 1.41-.59l7.78-7.78 2.81-2.81c.8-.78.8-2.07 0-2.86zM5.41 20L4 18.59l7.72-7.72 1.47 1.35L5.41 20z\"/>\n",
              "  </svg>\n",
              "      </button>\n",
              "      \n",
              "  <style>\n",
              "    .colab-df-container {\n",
              "      display:flex;\n",
              "      flex-wrap:wrap;\n",
              "      gap: 12px;\n",
              "    }\n",
              "\n",
              "    .colab-df-convert {\n",
              "      background-color: #E8F0FE;\n",
              "      border: none;\n",
              "      border-radius: 50%;\n",
              "      cursor: pointer;\n",
              "      display: none;\n",
              "      fill: #1967D2;\n",
              "      height: 32px;\n",
              "      padding: 0 0 0 0;\n",
              "      width: 32px;\n",
              "    }\n",
              "\n",
              "    .colab-df-convert:hover {\n",
              "      background-color: #E2EBFA;\n",
              "      box-shadow: 0px 1px 2px rgba(60, 64, 67, 0.3), 0px 1px 3px 1px rgba(60, 64, 67, 0.15);\n",
              "      fill: #174EA6;\n",
              "    }\n",
              "\n",
              "    [theme=dark] .colab-df-convert {\n",
              "      background-color: #3B4455;\n",
              "      fill: #D2E3FC;\n",
              "    }\n",
              "\n",
              "    [theme=dark] .colab-df-convert:hover {\n",
              "      background-color: #434B5C;\n",
              "      box-shadow: 0px 1px 3px 1px rgba(0, 0, 0, 0.15);\n",
              "      filter: drop-shadow(0px 1px 2px rgba(0, 0, 0, 0.3));\n",
              "      fill: #FFFFFF;\n",
              "    }\n",
              "  </style>\n",
              "\n",
              "      <script>\n",
              "        const buttonEl =\n",
              "          document.querySelector('#df-adeaa35d-c0cb-46e7-93ff-26697eb7a9ad button.colab-df-convert');\n",
              "        buttonEl.style.display =\n",
              "          google.colab.kernel.accessAllowed ? 'block' : 'none';\n",
              "\n",
              "        async function convertToInteractive(key) {\n",
              "          const element = document.querySelector('#df-adeaa35d-c0cb-46e7-93ff-26697eb7a9ad');\n",
              "          const dataTable =\n",
              "            await google.colab.kernel.invokeFunction('convertToInteractive',\n",
              "                                                     [key], {});\n",
              "          if (!dataTable) return;\n",
              "\n",
              "          const docLinkHtml = 'Like what you see? Visit the ' +\n",
              "            '<a target=\"_blank\" href=https://colab.research.google.com/notebooks/data_table.ipynb>data table notebook</a>'\n",
              "            + ' to learn more about interactive tables.';\n",
              "          element.innerHTML = '';\n",
              "          dataTable['output_type'] = 'display_data';\n",
              "          await google.colab.output.renderOutput(dataTable, element);\n",
              "          const docLink = document.createElement('div');\n",
              "          docLink.innerHTML = docLinkHtml;\n",
              "          element.appendChild(docLink);\n",
              "        }\n",
              "      </script>\n",
              "    </div>\n",
              "  </div>\n",
              "  "
            ]
          },
          "metadata": {},
          "execution_count": 7
        }
      ]
    },
    {
      "cell_type": "markdown",
      "source": [
        "Data penyandang disabilitas terdiri beberapa kolom:\n",
        "\n",
        "\n",
        "*   `nama_kecamatan` = Nama kecamatan di Provinsi DKI Jakarta\n",
        "*   `nama_kelurahan` = Nama kelurahan di Provinsi DKI Jakarta\n",
        "*   `penyandang_disabilitas` = Jumlah penyandang disabilitas di tiap kelurahan\n",
        "\n",
        "Diketahui:\n",
        "* Sejumlah 10 kecamatan akan diambil sebagai PSU\n",
        "\n",
        "* Antarkeluarahan memiliki jumlah penyandang disabilitas yang tidak sama\n",
        "\n",
        "\n"
      ],
      "metadata": {
        "id": "S5eD9FwhQjcw"
      }
    },
    {
      "cell_type": "code",
      "source": [
        "# Summary variables\n",
        "N = 44                 # jumlah seluruh kecamatan di DKI Jakarta\n",
        "n = 10                 # jumlah kecamatan yang disampel \n",
        "pop_mean = np.mean(data['penyandang_disabilitas'])\n",
        "\n",
        "print(f\"Jumlah kecamatan di DKI Jakarta                               : {N} kecamatan\")\n",
        "print(f\"Jumlah kecamatan yang disampel                                : {n} kecamatan\")\n",
        "print(f'Rata-rata penyandang disabilitas per kelurahan di DKI Jakarta : {pop_mean:.0f} orang  ')"
      ],
      "metadata": {
        "colab": {
          "base_uri": "https://localhost:8080/"
        },
        "id": "Y8S9LIbeUAe8",
        "outputId": "3290be10-dce2-4e1a-df03-0ec68b2bc56b"
      },
      "execution_count": null,
      "outputs": [
        {
          "output_type": "stream",
          "name": "stdout",
          "text": [
            "Jumlah kecamatan di DKI Jakarta                               : 44 kecamatan\n",
            "Jumlah kecamatan yang disampel                                : 10 kecamatan\n",
            "Rata-rata penyandang disabilitas per kelurahan di DKI Jakarta : 23 orang  \n"
          ]
        }
      ]
    },
    {
      "cell_type": "code",
      "source": [
        "# Random sample 10 kecamatan \n",
        "unique_kecamatan = data.groupby('nama_kecamatan', group_keys=False).apply(lambda data: data.sample(1))\n",
        "sample_kecamatan = unique_kecamatan['nama_kecamatan'].sample(n = 10, random_state = 3)\n",
        "sample_kecamatan"
      ],
      "metadata": {
        "colab": {
          "base_uri": "https://localhost:8080/"
        },
        "id": "H5BJcALdRnOJ",
        "outputId": "5db8ca45-1a45-46f0-a485-c09194c6381b"
      },
      "execution_count": null,
      "outputs": [
        {
          "output_type": "execute_result",
          "data": {
            "text/plain": [
              "181         PASAR MINGGU\n",
              "244          TANAH ABANG\n",
              "155              MENTENG\n",
              "147     MAMPANG PRAPATAN\n",
              "39               CIRACAS\n",
              "57     GROGOL PETAMBURAN\n",
              "26             CILINCING\n",
              "189          PENJARINGAN\n",
              "223           TAMAN SARI\n",
              "100          KEBON JERUK\n",
              "Name: nama_kecamatan, dtype: object"
            ]
          },
          "metadata": {},
          "execution_count": 9
        }
      ]
    },
    {
      "cell_type": "code",
      "source": [
        "# 10 Kecamatan terpilih\n",
        "kecamatan = data['nama_kecamatan']\n",
        "\n",
        "jumlah_kelurahan = data[kecamatan.isin(['PASAR MINGGU',\n",
        " 'TANAH ABANG',\n",
        " 'MENTENG',\n",
        " 'MAMPANG PRAPATAN',\n",
        " 'CIRACAS',\n",
        " 'GROGOL PETAMBURAN',\n",
        " 'CILINCING',\n",
        " 'PENJARINGAN',\n",
        " 'TAMAN SARI',\n",
        " 'KEBON JERUK'])].groupby('nama_kecamatan')['nama_kelurahan'].count()\\\n",
        ".reset_index(name = 'jumlah_kelurahan')\n",
        "\n",
        "jumlah_penyandang_disabilitas = data[kecamatan.isin(['PASAR MINGGU',\n",
        " 'TANAH ABANG',\n",
        " 'MENTENG',\n",
        " 'MAMPANG PRAPATAN',\n",
        " 'CIRACAS',\n",
        " 'GROGOL PETAMBURAN',\n",
        " 'CILINCING',\n",
        " 'PENJARINGAN',\n",
        " 'TAMAN SARI',\n",
        " 'KEBON JERUK'])].groupby('nama_kecamatan')['penyandang_disabilitas'].sum()\\\n",
        ".reset_index(name = 'penyandang_disabilitas')\n",
        "\n",
        "kecamatan_terpilih = pd.merge(jumlah_kelurahan, jumlah_penyandang_disabilitas, on=['nama_kecamatan'])\n",
        "kecamatan_terpilih"
      ],
      "metadata": {
        "colab": {
          "base_uri": "https://localhost:8080/",
          "height": 363
        },
        "id": "9eC3MnRoS1sR",
        "outputId": "0cda05e2-dbe5-46c2-87f8-1eaffd96a677"
      },
      "execution_count": null,
      "outputs": [
        {
          "output_type": "execute_result",
          "data": {
            "text/plain": [
              "      nama_kecamatan  jumlah_kelurahan  penyandang_disabilitas\n",
              "0          CILINCING                 7                      48\n",
              "1            CIRACAS                 5                     114\n",
              "2  GROGOL PETAMBURAN                 7                     501\n",
              "3        KEBON JERUK                 7                     132\n",
              "4   MAMPANG PRAPATAN                 5                      55\n",
              "5            MENTENG                 5                      17\n",
              "6       PASAR MINGGU                 7                      98\n",
              "7        PENJARINGAN                 5                     102\n",
              "8         TAMAN SARI                 8                      51\n",
              "9        TANAH ABANG                 7                      37"
            ],
            "text/html": [
              "\n",
              "  <div id=\"df-0659ac2b-4097-4d8b-a4c4-ae6b6b80456d\">\n",
              "    <div class=\"colab-df-container\">\n",
              "      <div>\n",
              "<style scoped>\n",
              "    .dataframe tbody tr th:only-of-type {\n",
              "        vertical-align: middle;\n",
              "    }\n",
              "\n",
              "    .dataframe tbody tr th {\n",
              "        vertical-align: top;\n",
              "    }\n",
              "\n",
              "    .dataframe thead th {\n",
              "        text-align: right;\n",
              "    }\n",
              "</style>\n",
              "<table border=\"1\" class=\"dataframe\">\n",
              "  <thead>\n",
              "    <tr style=\"text-align: right;\">\n",
              "      <th></th>\n",
              "      <th>nama_kecamatan</th>\n",
              "      <th>jumlah_kelurahan</th>\n",
              "      <th>penyandang_disabilitas</th>\n",
              "    </tr>\n",
              "  </thead>\n",
              "  <tbody>\n",
              "    <tr>\n",
              "      <th>0</th>\n",
              "      <td>CILINCING</td>\n",
              "      <td>7</td>\n",
              "      <td>48</td>\n",
              "    </tr>\n",
              "    <tr>\n",
              "      <th>1</th>\n",
              "      <td>CIRACAS</td>\n",
              "      <td>5</td>\n",
              "      <td>114</td>\n",
              "    </tr>\n",
              "    <tr>\n",
              "      <th>2</th>\n",
              "      <td>GROGOL PETAMBURAN</td>\n",
              "      <td>7</td>\n",
              "      <td>501</td>\n",
              "    </tr>\n",
              "    <tr>\n",
              "      <th>3</th>\n",
              "      <td>KEBON JERUK</td>\n",
              "      <td>7</td>\n",
              "      <td>132</td>\n",
              "    </tr>\n",
              "    <tr>\n",
              "      <th>4</th>\n",
              "      <td>MAMPANG PRAPATAN</td>\n",
              "      <td>5</td>\n",
              "      <td>55</td>\n",
              "    </tr>\n",
              "    <tr>\n",
              "      <th>5</th>\n",
              "      <td>MENTENG</td>\n",
              "      <td>5</td>\n",
              "      <td>17</td>\n",
              "    </tr>\n",
              "    <tr>\n",
              "      <th>6</th>\n",
              "      <td>PASAR MINGGU</td>\n",
              "      <td>7</td>\n",
              "      <td>98</td>\n",
              "    </tr>\n",
              "    <tr>\n",
              "      <th>7</th>\n",
              "      <td>PENJARINGAN</td>\n",
              "      <td>5</td>\n",
              "      <td>102</td>\n",
              "    </tr>\n",
              "    <tr>\n",
              "      <th>8</th>\n",
              "      <td>TAMAN SARI</td>\n",
              "      <td>8</td>\n",
              "      <td>51</td>\n",
              "    </tr>\n",
              "    <tr>\n",
              "      <th>9</th>\n",
              "      <td>TANAH ABANG</td>\n",
              "      <td>7</td>\n",
              "      <td>37</td>\n",
              "    </tr>\n",
              "  </tbody>\n",
              "</table>\n",
              "</div>\n",
              "      <button class=\"colab-df-convert\" onclick=\"convertToInteractive('df-0659ac2b-4097-4d8b-a4c4-ae6b6b80456d')\"\n",
              "              title=\"Convert this dataframe to an interactive table.\"\n",
              "              style=\"display:none;\">\n",
              "        \n",
              "  <svg xmlns=\"http://www.w3.org/2000/svg\" height=\"24px\"viewBox=\"0 0 24 24\"\n",
              "       width=\"24px\">\n",
              "    <path d=\"M0 0h24v24H0V0z\" fill=\"none\"/>\n",
              "    <path d=\"M18.56 5.44l.94 2.06.94-2.06 2.06-.94-2.06-.94-.94-2.06-.94 2.06-2.06.94zm-11 1L8.5 8.5l.94-2.06 2.06-.94-2.06-.94L8.5 2.5l-.94 2.06-2.06.94zm10 10l.94 2.06.94-2.06 2.06-.94-2.06-.94-.94-2.06-.94 2.06-2.06.94z\"/><path d=\"M17.41 7.96l-1.37-1.37c-.4-.4-.92-.59-1.43-.59-.52 0-1.04.2-1.43.59L10.3 9.45l-7.72 7.72c-.78.78-.78 2.05 0 2.83L4 21.41c.39.39.9.59 1.41.59.51 0 1.02-.2 1.41-.59l7.78-7.78 2.81-2.81c.8-.78.8-2.07 0-2.86zM5.41 20L4 18.59l7.72-7.72 1.47 1.35L5.41 20z\"/>\n",
              "  </svg>\n",
              "      </button>\n",
              "      \n",
              "  <style>\n",
              "    .colab-df-container {\n",
              "      display:flex;\n",
              "      flex-wrap:wrap;\n",
              "      gap: 12px;\n",
              "    }\n",
              "\n",
              "    .colab-df-convert {\n",
              "      background-color: #E8F0FE;\n",
              "      border: none;\n",
              "      border-radius: 50%;\n",
              "      cursor: pointer;\n",
              "      display: none;\n",
              "      fill: #1967D2;\n",
              "      height: 32px;\n",
              "      padding: 0 0 0 0;\n",
              "      width: 32px;\n",
              "    }\n",
              "\n",
              "    .colab-df-convert:hover {\n",
              "      background-color: #E2EBFA;\n",
              "      box-shadow: 0px 1px 2px rgba(60, 64, 67, 0.3), 0px 1px 3px 1px rgba(60, 64, 67, 0.15);\n",
              "      fill: #174EA6;\n",
              "    }\n",
              "\n",
              "    [theme=dark] .colab-df-convert {\n",
              "      background-color: #3B4455;\n",
              "      fill: #D2E3FC;\n",
              "    }\n",
              "\n",
              "    [theme=dark] .colab-df-convert:hover {\n",
              "      background-color: #434B5C;\n",
              "      box-shadow: 0px 1px 3px 1px rgba(0, 0, 0, 0.15);\n",
              "      filter: drop-shadow(0px 1px 2px rgba(0, 0, 0, 0.3));\n",
              "      fill: #FFFFFF;\n",
              "    }\n",
              "  </style>\n",
              "\n",
              "      <script>\n",
              "        const buttonEl =\n",
              "          document.querySelector('#df-0659ac2b-4097-4d8b-a4c4-ae6b6b80456d button.colab-df-convert');\n",
              "        buttonEl.style.display =\n",
              "          google.colab.kernel.accessAllowed ? 'block' : 'none';\n",
              "\n",
              "        async function convertToInteractive(key) {\n",
              "          const element = document.querySelector('#df-0659ac2b-4097-4d8b-a4c4-ae6b6b80456d');\n",
              "          const dataTable =\n",
              "            await google.colab.kernel.invokeFunction('convertToInteractive',\n",
              "                                                     [key], {});\n",
              "          if (!dataTable) return;\n",
              "\n",
              "          const docLinkHtml = 'Like what you see? Visit the ' +\n",
              "            '<a target=\"_blank\" href=https://colab.research.google.com/notebooks/data_table.ipynb>data table notebook</a>'\n",
              "            + ' to learn more about interactive tables.';\n",
              "          element.innerHTML = '';\n",
              "          dataTable['output_type'] = 'display_data';\n",
              "          await google.colab.output.renderOutput(dataTable, element);\n",
              "          const docLink = document.createElement('div');\n",
              "          docLink.innerHTML = docLinkHtml;\n",
              "          element.appendChild(docLink);\n",
              "        }\n",
              "      </script>\n",
              "    </div>\n",
              "  </div>\n",
              "  "
            ]
          },
          "metadata": {},
          "execution_count": 12
        }
      ]
    },
    {
      "cell_type": "code",
      "source": [
        "# Mencari nilai mu_r\n",
        "# y_total adalah jumlah penyandang disabilitas dari kecamatan yang disample\n",
        "y_total = np.sum(kecamatan_terpilih['penyandang_disabilitas'])\n",
        "\n",
        "# M adalah jumlah kelurahan dari kecamatan yang disample\n",
        "M = np.sum(kecamatan_terpilih['jumlah_kelurahan'])\n",
        "\n",
        "mu_r = y_total / M\n",
        "\n",
        "print(f'Total penyandang disabilitas dari seluruh kecamatan yang disampel  : {y_total} orang')\n",
        "print(f'Total jumlah kelurahan dari seluruh kecamatan yang disampel        : {M} kelurahan')\n",
        "print(f'Estimasi rata-rata jumlah penyandang disabilitas                   : {mu_r:.0f} orang')"
      ],
      "metadata": {
        "colab": {
          "base_uri": "https://localhost:8080/"
        },
        "id": "2WWVbmGbTyzI",
        "outputId": "019d1254-4fd1-4183-c43a-ce50794001af"
      },
      "execution_count": null,
      "outputs": [
        {
          "output_type": "stream",
          "name": "stdout",
          "text": [
            "Total penyandang disabilitas dari seluruh kecamatan yang disampel  : 1155 orang\n",
            "Total jumlah kelurahan dari seluruh kecamatan yang disampel        : 63 kelurahan\n",
            "Estimasi rata-rata jumlah penyandang disabilitas                   : 18 orang\n"
          ]
        }
      ]
    },
    {
      "cell_type": "markdown",
      "source": [
        "**2. Estimasi 95% Confidence Interval**"
      ],
      "metadata": {
        "id": "4KNA5DAaYAXY"
      }
    },
    {
      "cell_type": "code",
      "source": [
        "# hitung sample varians terlebih dahulu\n",
        "sc_square = np.sum((kecamatan_terpilih[\"penyandang_disabilitas\"] - mu_r*kecamatan_terpilih[\"jumlah_kelurahan\"])**2) / (n-1)\n",
        "print(f\"Varians sampel                        : ({np.sqrt(sc_square):.0f})^2\")\n",
        "\n",
        "# selanjutnya hitung estimator varians total populasi\n",
        "var_y_total_est = N*(N-n)*(sc_square/n)\n",
        "print(f'Varians dari estimator total populasi : ({np.sqrt(var_y_total_est):.0f}^2)')"
      ],
      "metadata": {
        "colab": {
          "base_uri": "https://localhost:8080/"
        },
        "id": "9i_Ttm-HYHkv",
        "outputId": "536833a4-31ce-4d96-a953-6019c2f21341"
      },
      "execution_count": null,
      "outputs": [
        {
          "output_type": "stream",
          "name": "stdout",
          "text": [
            "Varians sampel                        : (138)^2\n",
            "Varians dari estimator total populasi : (1687^2)\n"
          ]
        }
      ]
    },
    {
      "cell_type": "code",
      "source": [
        "# cari rata-rata kelurahan dari tiap keamatan yang sample\n",
        "M_bar = np.mean(kecamatan_terpilih[\"jumlah_kelurahan\"])\n",
        "print(f\"Rata-rata jumlah kelurahan per kecamatan                : {M_bar:.0f}\")\n",
        "\n",
        "\n",
        "# hitung total dari populasi berdasarkan rata-rata\n",
        "M_tot_est = N * M_bar\n",
        "print(f\"Estimasi jumlah kelurahan dari kecamatan yang disample  : {M_tot_est:.0f}\")\n",
        "\n",
        "\n",
        "# hitung varians dari rata-rata\n",
        "var_y_mean_est = var_y_total_est / (M_tot_est**2)\n",
        "print(f\"The variance of mean ssu. est.                          : ({np.sqrt(var_y_mean_est):.0f})^2\")"
      ],
      "metadata": {
        "colab": {
          "base_uri": "https://localhost:8080/"
        },
        "id": "TJWrdKBfZniu",
        "outputId": "7256f4e2-553e-4bcd-ba3e-f82d31236721"
      },
      "execution_count": null,
      "outputs": [
        {
          "output_type": "stream",
          "name": "stdout",
          "text": [
            "Rata-rata jumlah kelurahan per kecamatan                : 6\n",
            "Estimasi jumlah kelurahan dari kecamatan yang disample  : 277\n",
            "The variance of mean ssu. est.                          : (6)^2\n"
          ]
        }
      ]
    },
    {
      "cell_type": "code",
      "source": [
        "# hitung z_stat @ 95% CI\n",
        "alpha = 0.05\n",
        "z_stat = stats.norm.ppf(1 - alpha/2.)\n",
        "print(f\"z_stat              : {z_stat:.2f}\")\n",
        "\n",
        "# hitung margin of error (d)\n",
        "d = z_stat * np.sqrt(var_y_mean_est)\n",
        "print(f\"margin of error (d) : {d:.0f}\")"
      ],
      "metadata": {
        "colab": {
          "base_uri": "https://localhost:8080/"
        },
        "id": "MHWYyQtWahcb",
        "outputId": "3173bbc5-50e2-43d3-82e2-211907144969"
      },
      "execution_count": null,
      "outputs": [
        {
          "output_type": "stream",
          "name": "stdout",
          "text": [
            "z_stat              : 1.96\n",
            "margin of error (d) : 12\n"
          ]
        }
      ]
    },
    {
      "cell_type": "code",
      "source": [
        "# hitung confidence interval\n",
        "lb = mu_r - d\n",
        "ub = mu_r + d\n",
        "\n",
        "print(f'Dengan 95% confidence interval, nilai rata-rata asli jumlah penyandang disabilitas per kelurahan di DKI Jakarta\\\n",
        "berkisar antara {lb:.0f} sampai {ub:.0f} orang')"
      ],
      "metadata": {
        "colab": {
          "base_uri": "https://localhost:8080/"
        },
        "id": "h50yRkX4azBn",
        "outputId": "f506c184-51ad-41e9-f656-b19dfe6db91f"
      },
      "execution_count": null,
      "outputs": [
        {
          "output_type": "stream",
          "name": "stdout",
          "text": [
            "Dengan 95% confidence interval, nilai rata-rata asli jumlah penyandang disabilitas per kelurahan di DKI Jakartaberkisar antara 6 sampai 30 orang\n"
          ]
        }
      ]
    },
    {
      "cell_type": "markdown",
      "source": [
        "**3. Menghitung jumlah kecamatan yang dibutuhkan apabila ingin mengurangi MoE**\n"
      ],
      "metadata": {
        "id": "3--TT-U0f-x1"
      }
    },
    {
      "cell_type": "code",
      "source": [
        "# Margin error yang baru\n",
        "B = 5\n",
        "\n",
        "D = ((B*M_bar)**2) / 4\n",
        "print(D)"
      ],
      "metadata": {
        "colab": {
          "base_uri": "https://localhost:8080/"
        },
        "id": "5oNfJpyzhCBG",
        "outputId": "e3777e4e-dee1-4099-fb08-02d0770b7521"
      },
      "execution_count": null,
      "outputs": [
        {
          "output_type": "stream",
          "name": "stdout",
          "text": [
            "248.0625\n"
          ]
        }
      ]
    },
    {
      "cell_type": "code",
      "source": [
        "# Jumlah kecamatan yang dibutuhkan\n",
        "n_new = (N*sc_square) / (N*D + sc_square)\n",
        "print(f'Untuk mendapatkan margin error sebesar 5, maka kita harus mengambil sampel sebanyak {n_new:.0f} kecamatan')"
      ],
      "metadata": {
        "colab": {
          "base_uri": "https://localhost:8080/"
        },
        "id": "z5grt5PohLCp",
        "outputId": "7682955d-3052-4c84-9c39-dc92a84bfb1b"
      },
      "execution_count": null,
      "outputs": [
        {
          "output_type": "stream",
          "name": "stdout",
          "text": [
            "Untuk mendapatkan margin error sebesar 5, maka kita harus mengambil sampel sebanyak 28 kecamatan\n"
          ]
        }
      ]
    }
  ]
}